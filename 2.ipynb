def laminat():
    a=int(input(f'Введите размер отступа от начала кладки в см: '))
    b = 40
    try:
     assert a>=b
     print(f'делаешь всё верно! Шаг более 40 см')
    except(AssertionError):
     print(f"шаг ламинада не должен быть меньше 40 см! не соблюдена технология")

laminat()