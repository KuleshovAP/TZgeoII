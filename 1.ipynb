{
  "nbformat": 4,
  "nbformat_minor": 0,
  "metadata": {
    "colab": {
      "provenance": [],
      "authorship_tag": "ABX9TyPMhIlTffFit9ieXJ1LtQHD",
      "include_colab_link": true
    },
    "kernelspec": {
      "name": "python3",
      "display_name": "Python 3"
    },
    "language_info": {
      "name": "python"
    }
  },
  "cells": [
    {
      "cell_type": "markdown",
      "metadata": {
        "id": "view-in-github",
        "colab_type": "text"
      },
      "source": [
        "<a href=\"https://colab.research.google.com/github/KuleshovAP/TZgeoII/blob/main/1.ipynb\" target=\"_parent\"><img src=\"https://colab.research.google.com/assets/colab-badge.svg\" alt=\"Open In Colab\"/></a>"
      ]
    },
    {
      "cell_type": "code",
      "source": [
        "!git clone https://github.com/KuleshovAP/TZgeoII.git"
      ],
      "metadata": {
        "colab": {
          "base_uri": "https://localhost:8080/"
        },
        "id": "NeJMPbyzst-V",
        "outputId": "51eb09fe-aded-47ca-94d9-3934ed10c596"
      },
      "execution_count": 37,
      "outputs": [
        {
          "output_type": "stream",
          "name": "stdout",
          "text": [
            "fatal: destination path 'TZgeoII' already exists and is not an empty directory.\n"
          ]
        }
      ]
    },
    {
      "cell_type": "code",
      "source": [
        "!git add 1.ipynb"
      ],
      "metadata": {
        "id": "ORCS8buL2AM_"
      },
      "execution_count": 38,
      "outputs": []
    },
    {
      "cell_type": "code",
      "source": [
        "!git init #инициализируем"
      ],
      "metadata": {
        "colab": {
          "base_uri": "https://localhost:8080/"
        },
        "id": "IYp1XFnZ3UJn",
        "outputId": "1d539a7f-df24-4cb8-b7eb-0f1c4451f5e8"
      },
      "execution_count": 39,
      "outputs": [
        {
          "output_type": "stream",
          "name": "stdout",
          "text": [
            "Reinitialized existing Git repository in /content/.git/\n"
          ]
        }
      ]
    },
    {
      "cell_type": "code",
      "source": [
        "!git branch -m main #переименовываем ветку"
      ],
      "metadata": {
        "id": "O8eyUVmJ3lvR"
      },
      "execution_count": null,
      "outputs": []
    },
    {
      "cell_type": "code",
      "source": [
        "'''Настройка конфигурации: Для того чтобы использовать Git, вам, возможно, потребуется настроить имя пользователя и электронную почту'''\n",
        "!git config --global user.name \"KuleshovAP\"\n",
        "!git config --global user.email \"79261157560@yandex.ru\""
      ],
      "metadata": {
        "id": "wk30teBt36ug"
      },
      "execution_count": null,
      "outputs": []
    },
    {
      "cell_type": "code",
      "source": [
        "#Добавление файлов\n",
        "!git add 1.ipynb"
      ],
      "metadata": {
        "id": "fGW-Ewmk5Pjd"
      },
      "execution_count": 40,
      "outputs": []
    },
    {
      "cell_type": "code",
      "source": [
        "!ls"
      ],
      "metadata": {
        "colab": {
          "base_uri": "https://localhost:8080/"
        },
        "id": "dEIx97ad5hTn",
        "outputId": "ca4d4573-57cb-4c1b-dd37-88cf4032bbd1"
      },
      "execution_count": 41,
      "outputs": [
        {
          "output_type": "stream",
          "name": "stdout",
          "text": [
            " 1.ipynb\t\t\t\t   'C:\\Users\\apkuleshov-rnsk.RNSK\\Downloads.pub'   TZgeoII\n",
            "'C:\\Users\\apkuleshov-rnsk.RNSK\\Downloads'   sample_data\n"
          ]
        }
      ]
    },
    {
      "cell_type": "code",
      "source": [
        "   !echo \"{}\" > 1.ipynb  # создаст файл с пустым содержимым"
      ],
      "metadata": {
        "id": "IXxr_G7m5mul"
      },
      "execution_count": null,
      "outputs": []
    },
    {
      "cell_type": "code",
      "source": [
        "!ls"
      ],
      "metadata": {
        "colab": {
          "base_uri": "https://localhost:8080/"
        },
        "id": "oU7bPRwt5oEN",
        "outputId": "f0317b73-ab01-44fe-cd0f-e1285b73835d"
      },
      "execution_count": null,
      "outputs": [
        {
          "output_type": "stream",
          "name": "stdout",
          "text": [
            "1.ipynb  sample_data  TZgeoII\n"
          ]
        }
      ]
    },
    {
      "cell_type": "code",
      "source": [
        "!git add 1.ipynb"
      ],
      "metadata": {
        "id": "L_KbQm535u6t"
      },
      "execution_count": null,
      "outputs": []
    },
    {
      "cell_type": "code",
      "source": [
        "!git status #проверяем статус ГИТ"
      ],
      "metadata": {
        "colab": {
          "base_uri": "https://localhost:8080/"
        },
        "id": "ED6IbJw156-M",
        "outputId": "83361df9-59e4-483a-86f8-aa0b3d5f2a15"
      },
      "execution_count": null,
      "outputs": [
        {
          "output_type": "stream",
          "name": "stdout",
          "text": [
            "On branch main\n",
            "Untracked files:\n",
            "  (use \"git add <file>...\" to include in what will be committed)\n",
            "\t\u001b[31m.config/\u001b[m\n",
            "\t\u001b[31mTZgeoII/\u001b[m\n",
            "\t\u001b[31msample_data/\u001b[m\n",
            "\n",
            "nothing added to commit but untracked files present (use \"git add\" to track)\n"
          ]
        }
      ]
    },
    {
      "cell_type": "code",
      "source": [
        "#@title Пояснения\n",
        "### Пояснение вывода\n",
        "\n",
        "1. \"On branch main\":\n",
        "   - Это означает, что вы в данный момент находитесь на ветке main. Это ваша текущая рабочая ветка.\n",
        "\n",
        "2. \"No commits yet\":\n",
        "   - Сообщение говорит о том, что в репозитории еще нет ни одного коммита. Это означает, что никакие изменения еще не были сохранены в истории версий Git.\n",
        "\n",
        "3. \"Changes to be committed:\":\n",
        "   - Под этой секцией перечислены файлы, которые были добавлены в индекс (или \"stage\") и готовы к коммиту. В вашем случае:\n",
        "     - new file:   1.ipynb\n",
        "   Это значит, что файл 1.ipynb был добавлен и готов к коммиту.\n",
        "\n",
        "4. \"Untracked files:\":\n",
        "   - Эта секция показывает файлы и папки, которые находятся в вашем рабочем каталоге, но еще не отслеживаются (не добавлены в индекс Git). В вашем случае:\n",
        "     - .config/\n",
        "     - TZgeoII/\n",
        "     - sample_data/\n",
        "   Эти файлы и папки не включены в систему контроля версий.\n"
      ],
      "metadata": {
        "cellView": "form",
        "id": "GwCjnFVP67y9"
      },
      "execution_count": null,
      "outputs": []
    },
    {
      "cell_type": "code",
      "source": [
        "!git commit -m \"Добавил файл 1.ipynb\""
      ],
      "metadata": {
        "colab": {
          "base_uri": "https://localhost:8080/"
        },
        "id": "yKecRk4B6Czt",
        "outputId": "6a7d2961-215a-4c13-8aef-8bcf96ea0965"
      },
      "execution_count": null,
      "outputs": [
        {
          "output_type": "stream",
          "name": "stdout",
          "text": [
            "On branch main\n",
            "Untracked files:\n",
            "  (use \"git add <file>...\" to include in what will be committed)\n",
            "\t\u001b[31m.config/\u001b[m\n",
            "\t\u001b[31mTZgeoII/\u001b[m\n",
            "\t\u001b[31msample_data/\u001b[m\n",
            "\n",
            "nothing added to commit but untracked files present (use \"git add\" to track)\n"
          ]
        }
      ]
    },
    {
      "cell_type": "code",
      "source": [
        "!git push -u origin main #Отправить изменения"
      ],
      "metadata": {
        "colab": {
          "base_uri": "https://localhost:8080/"
        },
        "id": "BVjWVaxf6Jm0",
        "outputId": "b630b596-a1d5-4434-ccbd-33bce467a838"
      },
      "execution_count": null,
      "outputs": [
        {
          "output_type": "stream",
          "name": "stdout",
          "text": [
            "fatal: 'origin' does not appear to be a git repository\n",
            "fatal: Could not read from remote repository.\n",
            "\n",
            "Please make sure you have the correct access rights\n",
            "and the repository exists.\n"
          ]
        }
      ]
    },
    {
      "cell_type": "code",
      "source": [],
      "metadata": {
        "id": "GllyLrpY7zVu"
      },
      "execution_count": null,
      "outputs": []
    },
    {
      "cell_type": "code",
      "source": [
        "!git remote add origin https://github.com/KuleshovAP/TZgeoII.git\n",
        "#Убеждаемся что удаленный репозиторий настроен правильно"
      ],
      "metadata": {
        "id": "G1Nhp6-37zfN"
      },
      "execution_count": null,
      "outputs": []
    },
    {
      "cell_type": "code",
      "source": [
        "!git push -u origin main"
      ],
      "metadata": {
        "id": "aWbxrc888IsM",
        "outputId": "76b00476-9b95-49e5-cf8f-a452f18da994",
        "colab": {
          "base_uri": "https://localhost:8080/"
        }
      },
      "execution_count": null,
      "outputs": [
        {
          "output_type": "stream",
          "name": "stdout",
          "text": [
            "fatal: could not read Username for 'https://github.com': No such device or address\n"
          ]
        }
      ]
    },
    {
      "cell_type": "code",
      "source": [
        "#Если вы столкнулись с проблемами аутентификации через HTTPS, настройка аутентификации через SSH может быть более надежным вариантом. Выполните следующие шаги:\n",
        "#1. Создайте SSH-ключ (если его еще нет):"
      ],
      "metadata": {
        "id": "MS0S8lj98WbF"
      },
      "execution_count": null,
      "outputs": []
    },
    {
      "cell_type": "code",
      "source": [
        "!ssh-keygen -t rsa -b 4096 -C \"79261157560@yandex.ru\""
      ],
      "metadata": {
        "id": "atv2jH3K8Wgk",
        "outputId": "a2a51782-3e74-430c-ea30-3d362a15f940",
        "colab": {
          "base_uri": "https://localhost:8080/"
        }
      },
      "execution_count": null,
      "outputs": [
        {
          "output_type": "stream",
          "name": "stdout",
          "text": [
            "Generating public/private rsa key pair.\n",
            "Enter file in which to save the key (/root/.ssh/id_rsa): "
          ]
        }
      ]
    },
    {
      "cell_type": "code",
      "source": [],
      "metadata": {
        "id": "aHh17mfk8rru"
      },
      "execution_count": null,
      "outputs": []
    }
  ]
}